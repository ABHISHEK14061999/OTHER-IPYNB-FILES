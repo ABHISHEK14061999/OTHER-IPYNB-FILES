{
 "cells": [
  {
   "cell_type": "markdown",
   "metadata": {
    "id": "YeM0ZBWUVtXR"
   },
   "source": [
    "# <font color='red'>SGD Algorithm to predict movie ratings</font>"
   ]
  },
  {
   "cell_type": "markdown",
   "metadata": {
    "id": "M2vyJqSlmmjM"
   },
   "source": [
    "**There will be some functions that start with the word \"grader\" ex: grader_matrix(), grader_mean(), grader_dim() etc, you should not change those function definition.<br><br>Every Grader function has to return True.**"
   ]
  },
  {
   "cell_type": "markdown",
   "metadata": {
    "id": "AL6njTf8WBO0"
   },
   "source": [
    "<pre>\n",
    "1. Download the data from <a href='https://drive.google.com/open?id=1-1z7iDB52cB6_JpO7Dqa-eOYSs-mivpq'> here </a>\n",
    "2. The data will be of this format, each data point is represented as a triplet of user_id, movie_id and rating \n",
    "<table>\n",
    "<tr><th>user_id</th><th>movie_id</th><th>rating</th></tr>\n",
    "<tr><td>77</td><td>236</td><td>3</td></tr>\n",
    "<tr><td>471</td><td>208</td><td>5</td></tr>\n",
    "<tr><td>641</td><td>401</td><td>4</td></tr>\n",
    "<tr><td>31</td><td>298</td><td>4</td></tr>\n",
    "<tr><td>58</td><td>504</td><td>5</td></tr>\n",
    "<tr><td>235</td><td>727</td><td>5</td></tr>\n",
    "</table>"
   ]
  },
  {
   "cell_type": "markdown",
   "metadata": {
    "id": "73dhFsT0WSSB"
   },
   "source": [
    "## <font color='red'>Task 1</font>"
   ]
  },
  {
   "cell_type": "markdown",
   "metadata": {
    "id": "HY0frS6EWaEV"
   },
   "source": [
    "<font color='red'><b>Predict the rating for a given (user_id, movie_id) pair </b> </font>\n"
   ]
  },
  {
   "cell_type": "markdown",
   "metadata": {
    "id": "R-ISYxaVbT8L"
   },
   "source": [
    "Predicted rating $\\hat{y}_{ij}$ for user i, movied j pair is calcuated as $\\hat{y}_{ij} = \\mu + b_i + c_j + u_i^T v_j$ , here we will be finding the best values of $b_{i}$ and $c_{j}$ using SGD algorithm with the optimization problem for N users and M movies is defined as"
   ]
  },
  {
   "cell_type": "markdown",
   "metadata": {
    "id": "8Aj8SXeQWlZd"
   },
   "source": [
    "$$\n",
    "L = \\min_{ b, c, \\{ u_i \\}_{i=1}^N, \\{ v_j \\}_{j=1}^M}\n",
    "\\quad\n",
    "\\alpha \\Big(\n",
    "    \\sum_{j} \\sum_{k} v_{jk}^2 \n",
    "    + \\sum_{i} \\sum_{k} u_{ik}^2 \n",
    "    + \\sum_{i} b_i^2\n",
    "    + \\sum_{j} c_i^2\n",
    "    \\Big)\n",
    "+ \\sum_{i,j \\in \\mathcal{I}^{\\text{train}}}\n",
    "    (y_{ij} - \\mu - b_i - c_j - u_i^T v_j)^2\n",
    "$$"
   ]
  },
  {
   "cell_type": "markdown",
   "metadata": {
    "id": "2Q5bnWyZXrM7"
   },
   "source": [
    "<ul>\n",
    "<li><span class=\"math\">\\(\\mu\\)</span> : scalar mean rating</li>\n",
    "<li><span class=\"math\">\\(b_i\\)</span> : scalar bias term for user <span class=\"math\">\\(i\\)</span></li>\n",
    "<li><span class=\"math\">\\(c_j\\)</span> : scalar bias term for movie <span class=\"math\">\\(j\\)</span></li>\n",
    "<li><span class=\"math\">\\(u_i\\)</span> : K-dimensional vector for user <span class=\"math\">\\(i\\)</span></li>\n",
    "<li><span class=\"math\">\\(v_j\\)</span> : K-dimensional vector for movie <span class=\"math\">\\(j\\)</span></li>\n",
    "</ul>\n",
    "\n",
    " $ \\ $\n"
   ]
  },
  {
   "cell_type": "markdown",
   "metadata": {
    "id": "q1cf4CunbEr4"
   },
   "source": [
    "\n",
    "\n",
    "\n",
    "*.  We will be giving you some functions, please write code in that functions only.\n",
    "\n",
    "*.  After every function, we will be giving you expected output, please make sure that you get that output. \n",
    "\n",
    "\n",
    "\n"
   ]
  },
  {
   "cell_type": "markdown",
   "metadata": {
    "id": "ZWQyB5hfy3u7"
   },
   "source": [
    "1. Construct adjacency matrix with the given data, assuming its  <a href='https://en.wikipedia.org/wiki/Bipartite_graph'> weighted un-directed bi-partited graph</a> and the weight of each edge is the rating given by user to the movie\n",
    "\n",
    "<img src='https://i.imgur.com/rmUCGMb.jpg' width=200>\n",
    "\n",
    "   you can construct this matrix like $A[i][j]=r_{ij}$ here $i$ is user_id, $j$ is movie_id and $r_{ij}$ is rating given by user $i$ to the movie $j$\n",
    "\n",
    "   Hint : you can create adjacency matrix using <a href='https://docs.scipy.org/doc/scipy/reference/generated/scipy.sparse.csr_matrix.html'> csr_matrix</a>\n",
    "\n",
    "2. We will Apply SVD decomposition on the Adjaceny matrix <a href='https://stackoverflow.com/a/31528944/4084039'>link1</a>, <a href='https://machinelearningmastery.com/singular-value-decomposition-for-machine-learning/'> link2</a> and get three matrices $U, \\sum, V$ such that $U \\times \\sum \\times V^T = A$, <br> \n",
    "if $A$ is of dimensions $N \\times M$ then <br>\n",
    "U is of $N \\times k$, <br>\n",
    "$\\sum$ is of $k \\times k$ and <br>\n",
    "$V$ is $M \\times k$ dimensions. <br>\n",
    "\n",
    "   *.  So the matrix $U$ can be represented as matrix representation of users, where each row $u_{i}$ represents a k-dimensional vector for a user\n",
    "\n",
    "   *. So the matrix $V$ can be represented as matrix representation of movies, where each row $v_{j}$ represents a k-dimensional vector for a movie.\n",
    "3. Compute $\\mu$ , $\\mu$  represents the mean of all the rating given in the dataset.(write your code in <font color='blue'>def m_u()</font>)\n",
    "4. For each unique user initilize a bias value $B_{i}$ to zero, so if we have $N$ users $B$ will be a $N$ dimensional vector, the $i^{th}$ value of the $B$ will corresponds to the bias term for $i^{th}$ user (write your code in <font color='blue'>def initialize()</font>)\n",
    "\n",
    "5. For each unique movie initilize a bias value $C_{j}$ zero, so if we have $M$ movies $C$ will be a $M$ dimensional vector, the $j^{th}$ value of the $C$ will corresponds to the bias term for $j^{th}$ movie (write your code in <font color='blue'>def initialize()</font>)\n",
    "\n",
    "6. Compute dL/db_i (Write you code in <font color='blue'> def derivative_db()</font>)\n",
    "7. Compute dL/dc_j(write your code in <font color='blue'> def derivative_dc()</font>\n",
    "\n",
    "8. Print the mean squared error with predicted ratings.\n",
    "\n",
    "<pre>\n",
    "for each epoch:\n",
    "    for each pair of (user, movie):\n",
    "        b_i =  b_i - learning_rate * dL/db_i\n",
    "        c_j =  c_j - learning_rate * dL/dc_j\n",
    "predict the ratings with formula\n",
    "</pre>\n",
    "$\\hat{y}_{ij} = \\mu + b_i + c_j + \\text{dot_product}(u_i , v_j) $\n",
    "\n",
    "9. you can choose any learning rate and regularization term in the range $10^{-3}  \\text{ to } 10^2$  <br>\n",
    "  \n",
    "10. __bonus__: instead of using SVD decomposition you can learn the vectors $u_i$, $v_j$ with the help of SGD algo similar to $b_i$ and $c_j$ "
   ]
  },
  {
   "cell_type": "markdown",
   "metadata": {
    "id": "3-aBnRepA6gy"
   },
   "source": [
    "<br>"
   ]
  },
  {
   "cell_type": "markdown",
   "metadata": {
    "id": "IP_6xMAZA4mE"
   },
   "source": [
    " # <font color='red'>Task 2 </font>"
   ]
  },
  {
   "cell_type": "markdown",
   "metadata": {
    "id": "-9HCN_3WA2au"
   },
   "source": [
    "As we know U is the learned matrix of user vectors, with its i-th row as the vector ui for user i. Each row of U can be seen as a \"feature vector\" for a particular user.\n",
    "\n",
    "The question we'd like to investigate is this: do our computed per-user features that are optimized for predicting movie ratings contain anything to do with gender?\n",
    "\n",
    "The provided data file <a href='https://drive.google.com/open?id=1PHFdJh_4gIPiLH5Q4UErH8GK71hTrzlY'>user_info.csv</a> contains an is_male column indicating which users in the dataset are male. Can you predict this signal given the features U?\n",
    "\n",
    "\n",
    "> __Note 1__ : there is no train test split in the data, the goal of this assignment is to give an intution about how to do matrix factorization with the help of SGD and application of truncated SVD. for better understanding of the collabarative fillerting please check netflix case study. <br><br>\n",
    "> __Note 2__ : Check if scaling of $U$, $V$ matrices improve the metric "
   ]
  },
  {
   "cell_type": "markdown",
   "metadata": {
    "id": "ovFCo1JCBIXM"
   },
   "source": [
    "<br>\n",
    "\n",
    "\n",
    "<br>"
   ]
  },
  {
   "cell_type": "markdown",
   "metadata": {
    "id": "iVJo-3njBQLf"
   },
   "source": [
    "<font color='red'> Reading the csv file </font>"
   ]
  },
  {
   "cell_type": "code",
   "execution_count": 1,
   "metadata": {
    "colab": {
     "base_uri": "https://localhost:8080/",
     "height": 195
    },
    "id": "hEhmfRD637EW",
    "outputId": "07189bd2-eb44-43c7-f225-022cc41d0ee6"
   },
   "outputs": [
    {
     "data": {
      "text/html": [
       "<div>\n",
       "<style scoped>\n",
       "    .dataframe tbody tr th:only-of-type {\n",
       "        vertical-align: middle;\n",
       "    }\n",
       "\n",
       "    .dataframe tbody tr th {\n",
       "        vertical-align: top;\n",
       "    }\n",
       "\n",
       "    .dataframe thead th {\n",
       "        text-align: right;\n",
       "    }\n",
       "</style>\n",
       "<table border=\"1\" class=\"dataframe\">\n",
       "  <thead>\n",
       "    <tr style=\"text-align: right;\">\n",
       "      <th></th>\n",
       "      <th>user_id</th>\n",
       "      <th>item_id</th>\n",
       "      <th>rating</th>\n",
       "    </tr>\n",
       "  </thead>\n",
       "  <tbody>\n",
       "    <tr>\n",
       "      <th>0</th>\n",
       "      <td>772</td>\n",
       "      <td>36</td>\n",
       "      <td>3</td>\n",
       "    </tr>\n",
       "    <tr>\n",
       "      <th>1</th>\n",
       "      <td>471</td>\n",
       "      <td>228</td>\n",
       "      <td>5</td>\n",
       "    </tr>\n",
       "    <tr>\n",
       "      <th>2</th>\n",
       "      <td>641</td>\n",
       "      <td>401</td>\n",
       "      <td>4</td>\n",
       "    </tr>\n",
       "    <tr>\n",
       "      <th>3</th>\n",
       "      <td>312</td>\n",
       "      <td>98</td>\n",
       "      <td>4</td>\n",
       "    </tr>\n",
       "    <tr>\n",
       "      <th>4</th>\n",
       "      <td>58</td>\n",
       "      <td>504</td>\n",
       "      <td>5</td>\n",
       "    </tr>\n",
       "  </tbody>\n",
       "</table>\n",
       "</div>"
      ],
      "text/plain": [
       "   user_id  item_id  rating\n",
       "0      772       36       3\n",
       "1      471      228       5\n",
       "2      641      401       4\n",
       "3      312       98       4\n",
       "4       58      504       5"
      ]
     },
     "execution_count": 1,
     "metadata": {},
     "output_type": "execute_result"
    }
   ],
   "source": [
    "import pandas as pd\n",
    "data=pd.read_csv('ratings_train.csv')\n",
    "data.head()"
   ]
  },
  {
   "cell_type": "code",
   "execution_count": 2,
   "metadata": {
    "colab": {
     "base_uri": "https://localhost:8080/",
     "height": 34
    },
    "id": "66ibGJ74hCde",
    "outputId": "627b068c-baa2-4751-f4d5-03a7c8e8b77b"
   },
   "outputs": [
    {
     "data": {
      "text/plain": [
       "(89992, 3)"
      ]
     },
     "execution_count": 2,
     "metadata": {},
     "output_type": "execute_result"
    }
   ],
   "source": [
    "data.shape"
   ]
  },
  {
   "cell_type": "markdown",
   "metadata": {
    "id": "mvB8SDS_hW03"
   },
   "source": [
    "<font color='red'>Create your adjacency matrix </font>"
   ]
  },
  {
   "cell_type": "code",
   "execution_count": 4,
   "metadata": {
    "id": "t44MNT40hZQW"
   },
   "outputs": [],
   "source": [
    "from scipy.sparse import csr_matrix\n",
    "row = data.user_id\n",
    "col = data.item_id\n",
    "rating = data.rating\n",
    "adjacency_matrix = csr_matrix((rating, (row, col))).toarray()"
   ]
  },
  {
   "cell_type": "code",
   "execution_count": 5,
   "metadata": {
    "id": "-mCgC0WbhZTO"
   },
   "outputs": [
    {
     "data": {
      "text/plain": [
       "(943, 1681)"
      ]
     },
     "execution_count": 5,
     "metadata": {},
     "output_type": "execute_result"
    }
   ],
   "source": [
    "adjacency_matrix.shape"
   ]
  },
  {
   "cell_type": "markdown",
   "metadata": {
    "id": "4acJD4ujEtD6"
   },
   "source": [
    "<font color='cyan'>Grader function - 1</font>"
   ]
  },
  {
   "cell_type": "code",
   "execution_count": 6,
   "metadata": {
    "id": "2QuTzFBREsDV"
   },
   "outputs": [
    {
     "data": {
      "text/plain": [
       "True"
      ]
     },
     "execution_count": 6,
     "metadata": {},
     "output_type": "execute_result"
    }
   ],
   "source": [
    "def grader_matrix(matrix):\n",
    "  assert(matrix.shape==(943,1681))\n",
    "  return True\n",
    "grader_matrix(adjacency_matrix)"
   ]
  },
  {
   "cell_type": "markdown",
   "metadata": {
    "id": "gXDf1RCUBsYN"
   },
   "source": [
    "<font color='red'> SVD decompostion</font>"
   ]
  },
  {
   "cell_type": "markdown",
   "metadata": {
    "id": "OJPWI9VwD_ih"
   },
   "source": [
    "Sample code for SVD decompostion"
   ]
  },
  {
   "cell_type": "code",
   "execution_count": 7,
   "metadata": {
    "colab": {
     "base_uri": "https://localhost:8080/",
     "height": 67
    },
    "id": "GATD35bmBszc",
    "outputId": "b3f57c71-7ce6-4796-ab6c-e7af570a864c"
   },
   "outputs": [
    {
     "name": "stdout",
     "output_type": "stream",
     "text": [
      "(20, 5)\n",
      "(5,)\n",
      "(10, 5)\n"
     ]
    }
   ],
   "source": [
    "from sklearn.utils.extmath import randomized_svd\n",
    "import numpy as np \n",
    "matrix = np.random.random((20, 10))\n",
    "U, Sigma, VT = randomized_svd(matrix, n_components=5,n_iter=5, random_state=None)\n",
    "print(U.shape)\n",
    "print(Sigma.shape)\n",
    "print(VT.T.shape)"
   ]
  },
  {
   "cell_type": "markdown",
   "metadata": {
    "id": "ePDgwALQEJoB"
   },
   "source": [
    "<font color='red'>Write your code for SVD decompostion</font>"
   ]
  },
  {
   "cell_type": "code",
   "execution_count": null,
   "metadata": {
    "id": "ZYnsKBmFEIg3"
   },
   "outputs": [],
   "source": [
    "# Please use adjacency_matrix as matrix for SVD decompostion\n",
    "# You can choose n_components as your choice"
   ]
  },
  {
   "cell_type": "code",
   "execution_count": 8,
   "metadata": {},
   "outputs": [
    {
     "name": "stdout",
     "output_type": "stream",
     "text": [
      "(943, 5)\n",
      "(5,)\n",
      "(1681, 5)\n"
     ]
    }
   ],
   "source": [
    "from sklearn.utils.extmath import randomized_svd\n",
    "import numpy as np \n",
    "U, Sigma, VT = randomized_svd(adjacency_matrix, n_components=5,n_iter=5, random_state=None)\n",
    "print(U.shape)\n",
    "print(Sigma.shape)\n",
    "print(VT.T.shape)"
   ]
  },
  {
   "cell_type": "markdown",
   "metadata": {
    "id": "83Vh4NoO_JyU"
   },
   "source": [
    "<font color='red'>Compute mean of ratings</font>"
   ]
  },
  {
   "cell_type": "code",
   "execution_count": 9,
   "metadata": {
    "id": "cBHuCn2QSEnl"
   },
   "outputs": [],
   "source": [
    "def m_u(ratings):\n",
    "    '''In this function, we will compute mean for all the ratings'''\n",
    "    # you can use mean() function to do this\n",
    "    # check this (https://pandas.pydata.org/pandas-docs/stable/reference/api/pandas.DataFrame.mean.html) link for more details.\n",
    "    meuu = ratings.mean()\n",
    "    \n",
    "\n",
    "    return meuu"
   ]
  },
  {
   "cell_type": "code",
   "execution_count": 10,
   "metadata": {
    "id": "iu1nn-1x3ebp"
   },
   "outputs": [
    {
     "name": "stdout",
     "output_type": "stream",
     "text": [
      "3.529480398257623\n"
     ]
    }
   ],
   "source": [
    "mu=m_u(data['rating'])\n",
    "print(mu)"
   ]
  },
  {
   "cell_type": "markdown",
   "metadata": {
    "id": "76ooYQIdG_tf"
   },
   "source": [
    "<font color='cyan'>Grader function -2 </font>"
   ]
  },
  {
   "cell_type": "code",
   "execution_count": 11,
   "metadata": {
    "id": "TZy1m67oG9r9"
   },
   "outputs": [
    {
     "data": {
      "text/plain": [
       "True"
      ]
     },
     "execution_count": 11,
     "metadata": {},
     "output_type": "execute_result"
    }
   ],
   "source": [
    "def grader_mean(mu):\n",
    "  assert(np.round(mu,3)==3.529)\n",
    "  return True\n",
    "mu=m_u(data['rating'])\n",
    "grader_mean(mu)"
   ]
  },
  {
   "cell_type": "markdown",
   "metadata": {
    "id": "qSvAW1X94g3G"
   },
   "source": [
    "<font color='red'>Initialize $B_{i}$ and $C_{j}$"
   ]
  },
  {
   "cell_type": "markdown",
   "metadata": {
    "id": "qsOl-4xq5aUG"
   },
   "source": [
    "Hint : Number of rows of adjacent matrix corresponds to user dimensions($B_{i}$), number of columns of adjacent matrix corresponds to movie dimensions ($C_{j}$)"
   ]
  },
  {
   "cell_type": "code",
   "execution_count": 12,
   "metadata": {
    "id": "AyEJqPka4lBW"
   },
   "outputs": [],
   "source": [
    "def initialize(dim):\n",
    "    '''In this function, we will initialize bias value 'B' and 'C'.'''\n",
    "    # initalize the value to zeros \n",
    "    # return output as a list of zeros\n",
    "    z = [0]*dim\n",
    "\n",
    "    \n",
    "\n",
    "    return z "
   ]
  },
  {
   "cell_type": "code",
   "execution_count": 19,
   "metadata": {
    "id": "Nlae9QAQ43Xz"
   },
   "outputs": [],
   "source": [
    "dim= 943# give the number of dimensions for b_i (Here b_i corresponds to users)\n",
    "b_i=initialize(dim)"
   ]
  },
  {
   "cell_type": "code",
   "execution_count": 20,
   "metadata": {
    "id": "rwuopn4HoEbP"
   },
   "outputs": [],
   "source": [
    "dim=1681 # give the number of dimensions for c_j (Here c_j corresponds to movies)\n",
    "c_j=initialize(dim)"
   ]
  },
  {
   "cell_type": "markdown",
   "metadata": {
    "id": "nfPJ3_h6JIkI"
   },
   "source": [
    "<font color='cyan'>Grader function -3 </font>"
   ]
  },
  {
   "cell_type": "code",
   "execution_count": 21,
   "metadata": {
    "id": "dQhiNjw0Hz4m"
   },
   "outputs": [
    {
     "data": {
      "text/plain": [
       "True"
      ]
     },
     "execution_count": 21,
     "metadata": {},
     "output_type": "execute_result"
    }
   ],
   "source": [
    "def grader_dim(b_i,c_j):\n",
    "  assert(len(b_i)==943 and np.sum(b_i)==0)\n",
    "  assert(len(c_j)==1681 and np.sum(c_j)==0)\n",
    "  return True\n",
    "grader_dim(b_i,c_j)"
   ]
  },
  {
   "cell_type": "markdown",
   "metadata": {
    "id": "DTDK4ZR18MrZ"
   },
   "source": [
    "<font color='red'>Compute dL/db_i</font>"
   ]
  },
  {
   "cell_type": "code",
   "execution_count": 28,
   "metadata": {
    "id": "3NFzVC1N8S4L"
   },
   "outputs": [],
   "source": [
    "def derivative_db(user_id,item_id,rating,U,V,mu,alpha):\n",
    "    '''In this function, we will compute dL/db_i'''\n",
    "    db = 2*alpha*(b_i[user_id])-2*(rating-mu-b_i[user_id]-c_j[item_id]-(np.dot(U[user_id], V.T[item_id])))\n",
    "    return db\n"
   ]
  },
  {
   "cell_type": "markdown",
   "metadata": {
    "id": "ilISrTeQ0f0v"
   },
   "source": [
    "<font color='cyan'>Grader function -4 </font>"
   ]
  },
  {
   "cell_type": "code",
   "execution_count": 29,
   "metadata": {
    "id": "Wt5ixEVZ043U"
   },
   "outputs": [
    {
     "data": {
      "text/plain": [
       "True"
      ]
     },
     "execution_count": 29,
     "metadata": {},
     "output_type": "execute_result"
    }
   ],
   "source": [
    "def grader_db(value):\n",
    "    assert(np.round(value,3)==-0.931)\n",
    "    return True\n",
    "U1, Sigma, V1 = randomized_svd(adjacency_matrix, n_components=2,n_iter=5, random_state=24)\n",
    "# Please don't change random state\n",
    "# Here we are considering n_componets = 2 for our convinence\n",
    "alpha=0.01 \n",
    "value=derivative_db(312,98,4,U1,V1,mu,alpha)\n",
    "grader_db(value)"
   ]
  },
  {
   "cell_type": "markdown",
   "metadata": {
    "id": "1Kp0hC_b9v60"
   },
   "source": [
    "<font color='red'>Compute dL/dc_j</font>"
   ]
  },
  {
   "cell_type": "code",
   "execution_count": 30,
   "metadata": {
    "id": "FAtSYMrc9UqJ"
   },
   "outputs": [],
   "source": [
    "def derivative_dc(user_id,item_id,rating,U,V,mu, alpha):\n",
    "    '''In this function, we will compute dL/dc_j'''\n",
    "    dc = 2*alpha*(c_j[item_id])-2*(rating-mu-c_j[item_id]-b_i[user_id]-(np.dot(U[user_id], V.T[item_id])))\n",
    "\n",
    "    return dc"
   ]
  },
  {
   "cell_type": "markdown",
   "metadata": {
    "id": "lxkAm8aH1SBF"
   },
   "source": [
    "<font color='cyan'>Grader function - 5 </font>"
   ]
  },
  {
   "cell_type": "code",
   "execution_count": 31,
   "metadata": {
    "id": "RaIN9yie1US8"
   },
   "outputs": [
    {
     "data": {
      "text/plain": [
       "True"
      ]
     },
     "execution_count": 31,
     "metadata": {},
     "output_type": "execute_result"
    }
   ],
   "source": [
    "def grader_dc(value):\n",
    "    assert(np.round(value,3)==-2.929)\n",
    "    return True\n",
    "U1, Sigma, V1 = randomized_svd(adjacency_matrix, n_components=2,n_iter=5, random_state=24)\n",
    "# Please don't change random state\n",
    "# Here we are considering n_componets = 2 for our convinence\n",
    "alpha=0.01 \n",
    "value=derivative_dc(58,504,5,U1,V1,mu, alpha)\n",
    "grader_dc(value)"
   ]
  },
  {
   "cell_type": "code",
   "execution_count": 32,
   "metadata": {},
   "outputs": [
    {
     "name": "stdout",
     "output_type": "stream",
     "text": [
      "(943, 2)\n",
      "(2,)\n",
      "(2, 1681)\n"
     ]
    }
   ],
   "source": [
    "print(U1.shape)\n",
    "print(Sigma.shape)\n",
    "print(V1.shape)"
   ]
  },
  {
   "cell_type": "code",
   "execution_count": 33,
   "metadata": {},
   "outputs": [
    {
     "data": {
      "text/plain": [
       "array([[ 0.0662257 ,  0.00788819],\n",
       "       [ 0.01364432, -0.04889455],\n",
       "       [ 0.00543826, -0.02512783],\n",
       "       ...,\n",
       "       [ 0.00738924, -0.0259738 ],\n",
       "       [ 0.02499924,  0.00447768],\n",
       "       [ 0.04337341, -0.00281433]])"
      ]
     },
     "execution_count": 33,
     "metadata": {},
     "output_type": "execute_result"
    }
   ],
   "source": [
    "U1"
   ]
  },
  {
   "cell_type": "code",
   "execution_count": 34,
   "metadata": {},
   "outputs": [
    {
     "data": {
      "text/plain": [
       "array([0.0662257 , 0.00788819])"
      ]
     },
     "execution_count": 34,
     "metadata": {},
     "output_type": "execute_result"
    }
   ],
   "source": [
    "U1[0]"
   ]
  },
  {
   "cell_type": "code",
   "execution_count": 35,
   "metadata": {},
   "outputs": [
    {
     "data": {
      "text/plain": [
       "array([577.35728878, 221.78450823])"
      ]
     },
     "execution_count": 35,
     "metadata": {},
     "output_type": "execute_result"
    }
   ],
   "source": [
    "Sigma"
   ]
  },
  {
   "cell_type": "code",
   "execution_count": 36,
   "metadata": {},
   "outputs": [
    {
     "data": {
      "text/plain": [
       "array([[ 9.43207568e-02, -9.36563631e-02],\n",
       "       [ 3.41162334e-02, -6.60530634e-03],\n",
       "       [ 2.15411956e-02, -2.74393931e-02],\n",
       "       ...,\n",
       "       [ 3.54599760e-05, -5.31584942e-04],\n",
       "       [ 3.55181033e-04,  1.20605280e-04],\n",
       "       [ 3.58646887e-04,  2.92637499e-04]])"
      ]
     },
     "execution_count": 36,
     "metadata": {},
     "output_type": "execute_result"
    }
   ],
   "source": [
    "V1.T"
   ]
  },
  {
   "cell_type": "code",
   "execution_count": 37,
   "metadata": {},
   "outputs": [
    {
     "data": {
      "text/plain": [
       "(943, 1681)"
      ]
     },
     "execution_count": 37,
     "metadata": {},
     "output_type": "execute_result"
    }
   ],
   "source": [
    "a = U1*Sigma\n",
    "A = np.dot(a,V1)\n",
    "A.shape"
   ]
  },
  {
   "cell_type": "markdown",
   "metadata": {
    "id": "lg5XNbDWCIKI"
   },
   "source": [
    "<font color='red'>Compute MSE (mean squared error) for predicted ratings</font>\n"
   ]
  },
  {
   "cell_type": "markdown",
   "metadata": {
    "id": "7WUjNy0TDQX6"
   },
   "source": [
    "for each epoch, print the MSE value"
   ]
  },
  {
   "cell_type": "markdown",
   "metadata": {
    "id": "D2pCy1AKCafw"
   },
   "source": [
    "<pre>\n",
    "for each epoch:\n",
    "\n",
    "    for each pair of (user, movie):\n",
    "\n",
    "        b_i =  b_i - learning_rate * dL/db_i\n",
    "\n",
    "        c_j =  c_j - learning_rate * dL/dc_j\n",
    "\n",
    "predict the ratings with formula\n",
    "</pre>\n",
    "\n",
    "$\\hat{y}_{ij} = \\mu + b_i + c_j + \\text{dot_product}(u_i , v_j) $"
   ]
  },
  {
   "cell_type": "code",
   "execution_count": 38,
   "metadata": {
    "id": "kiKj-M6d2a-Y"
   },
   "outputs": [
    {
     "name": "stderr",
     "output_type": "stream",
     "text": [
      "100%|██████████| 10/10 [03:21<00:00, 20.11s/it]\n"
     ]
    }
   ],
   "source": [
    "from sklearn.metrics import mean_squared_error\n",
    "from tqdm import tqdm\n",
    "epochs = 10\n",
    "learning_rate = 0.01\n",
    "alpha =0.01\n",
    "epochs_list = []\n",
    "mse = []\n",
    "for epoch in tqdm(range(epochs)):\n",
    "    y_hat = []\n",
    "    y_tru = []\n",
    "    \n",
    "    for i in range(A.shape[0]):\n",
    "        y_pr = []\n",
    "        y_tr = []\n",
    "        \n",
    "        for j in range(A.shape[1]):            \n",
    "\n",
    "            b_i[i] = b_i[i] - learning_rate * derivative_db(i,j,A[i][j],U1,V1,mu,alpha)\n",
    "            c_j[j] = c_j[j] - learning_rate * derivative_dc(i,j,A[i][j],U1,V1,mu,alpha)\n",
    "\n",
    "            y_predict = mu + b_i[i] + c_j[j] + (np.dot(U1[i], V1.T[j]))\n",
    "            y_true = A[i][j]\n",
    "            y_pr.append(y_predict)\n",
    "            y_tr.append(y_true)\n",
    "            \n",
    "        y_hat.append(y_pr)\n",
    "        y_tru.append(y_tr)\n",
    "    MSE = mean_squared_error(y_tru, y_hat)\n",
    "    mse.append(MSE)\n",
    "    epochs_list.append(epoch)"
   ]
  },
  {
   "cell_type": "markdown",
   "metadata": {
    "id": "hTXYZFFUVSg5"
   },
   "source": [
    "<font color='red'>Plot epoch number vs MSE </font>\n",
    "\n",
    "* epoch number on X-axis\n",
    "* MSE on Y-axis"
   ]
  },
  {
   "cell_type": "code",
   "execution_count": 39,
   "metadata": {
    "id": "igkkO3EvVRt6"
   },
   "outputs": [
    {
     "data": {
      "text/plain": [
       "[0.0799792971400809,\n",
       " 0.07969001532732808,\n",
       " 0.057587041116907565,\n",
       " 0.056852147780155904,\n",
       " 0.05531888154138192,\n",
       " 0.054988466096831175,\n",
       " 0.055077705837228305,\n",
       " 0.054727456260337155,\n",
       " 0.05480192074688369,\n",
       " 0.05482487540100971]"
      ]
     },
     "execution_count": 39,
     "metadata": {},
     "output_type": "execute_result"
    }
   ],
   "source": [
    "mse"
   ]
  },
  {
   "cell_type": "code",
   "execution_count": 40,
   "metadata": {},
   "outputs": [
    {
     "data": {
      "image/png": "[encoded data removed]",
      "text/plain": [
       "<Figure size 432x288 with 1 Axes>"
      ]
     },
     "metadata": {
      "needs_background": "light"
     },
     "output_type": "display_data"
    }
   ],
   "source": [
    "import matplotlib.pyplot as plt\n",
    "%matplotlib inline\n",
    "plt.figure()\n",
    "plt.plot((epochs_list), (mse), label = \"MSE\")\n",
    "plt.title(\"epoch number vs MSE\")\n",
    "plt.xlabel(\"Epochs\")\n",
    "plt.ylabel(\"Loss\")\n",
    "plt.legend()\n",
    "plt.show()"
   ]
  },
  {
   "cell_type": "markdown",
   "metadata": {
    "id": "NeWAGkT6C9kq"
   },
   "source": [
    "<br>"
   ]
  },
  {
   "cell_type": "markdown",
   "metadata": {
    "id": "lkIQOOo1C9o7"
   },
   "source": [
    "<font color='red'> Task 2</font>"
   ]
  },
  {
   "cell_type": "code",
   "execution_count": 41,
   "metadata": {
    "id": "9kl4Ryi_7E_T"
   },
   "outputs": [
    {
     "data": {
      "text/html": [
       "<div>\n",
       "<style scoped>\n",
       "    .dataframe tbody tr th:only-of-type {\n",
       "        vertical-align: middle;\n",
       "    }\n",
       "\n",
       "    .dataframe tbody tr th {\n",
       "        vertical-align: top;\n",
       "    }\n",
       "\n",
       "    .dataframe thead th {\n",
       "        text-align: right;\n",
       "    }\n",
       "</style>\n",
       "<table border=\"1\" class=\"dataframe\">\n",
       "  <thead>\n",
       "    <tr style=\"text-align: right;\">\n",
       "      <th></th>\n",
       "      <th>user_id</th>\n",
       "      <th>age</th>\n",
       "      <th>is_male</th>\n",
       "      <th>orig_user_id</th>\n",
       "    </tr>\n",
       "  </thead>\n",
       "  <tbody>\n",
       "    <tr>\n",
       "      <th>0</th>\n",
       "      <td>0</td>\n",
       "      <td>24</td>\n",
       "      <td>1</td>\n",
       "      <td>1</td>\n",
       "    </tr>\n",
       "    <tr>\n",
       "      <th>1</th>\n",
       "      <td>1</td>\n",
       "      <td>53</td>\n",
       "      <td>0</td>\n",
       "      <td>2</td>\n",
       "    </tr>\n",
       "    <tr>\n",
       "      <th>2</th>\n",
       "      <td>2</td>\n",
       "      <td>23</td>\n",
       "      <td>1</td>\n",
       "      <td>3</td>\n",
       "    </tr>\n",
       "    <tr>\n",
       "      <th>3</th>\n",
       "      <td>3</td>\n",
       "      <td>24</td>\n",
       "      <td>1</td>\n",
       "      <td>4</td>\n",
       "    </tr>\n",
       "    <tr>\n",
       "      <th>4</th>\n",
       "      <td>4</td>\n",
       "      <td>33</td>\n",
       "      <td>0</td>\n",
       "      <td>5</td>\n",
       "    </tr>\n",
       "  </tbody>\n",
       "</table>\n",
       "</div>"
      ],
      "text/plain": [
       "   user_id  age  is_male  orig_user_id\n",
       "0        0   24        1             1\n",
       "1        1   53        0             2\n",
       "2        2   23        1             3\n",
       "3        3   24        1             4\n",
       "4        4   33        0             5"
      ]
     },
     "execution_count": 41,
     "metadata": {},
     "output_type": "execute_result"
    }
   ],
   "source": [
    "data2=pd.read_csv('user_info.csv.txt')\n",
    "data2.head()"
   ]
  },
  {
   "cell_type": "code",
   "execution_count": 42,
   "metadata": {
    "id": "c1FTc39gDdti"
   },
   "outputs": [
    {
     "data": {
      "text/plain": [
       "(943, 4)"
      ]
     },
     "execution_count": 42,
     "metadata": {},
     "output_type": "execute_result"
    }
   ],
   "source": [
    "data2.shape"
   ]
  },
  {
   "cell_type": "code",
   "execution_count": 43,
   "metadata": {},
   "outputs": [
    {
     "data": {
      "text/plain": [
       "<bound method DataFrame.info of      user_id  age  is_male  orig_user_id\n",
       "0          0   24        1             1\n",
       "1          1   53        0             2\n",
       "2          2   23        1             3\n",
       "3          3   24        1             4\n",
       "4          4   33        0             5\n",
       "..       ...  ...      ...           ...\n",
       "938      938   26        0           939\n",
       "939      939   32        1           940\n",
       "940      940   20        1           941\n",
       "941      941   48        0           942\n",
       "942      942   22        1           943\n",
       "\n",
       "[943 rows x 4 columns]>"
      ]
     },
     "execution_count": 43,
     "metadata": {},
     "output_type": "execute_result"
    }
   ],
   "source": [
    "data2.info"
   ]
  },
  {
   "cell_type": "code",
   "execution_count": 44,
   "metadata": {},
   "outputs": [
    {
     "data": {
      "text/html": [
       "<div>\n",
       "<style scoped>\n",
       "    .dataframe tbody tr th:only-of-type {\n",
       "        vertical-align: middle;\n",
       "    }\n",
       "\n",
       "    .dataframe tbody tr th {\n",
       "        vertical-align: top;\n",
       "    }\n",
       "\n",
       "    .dataframe thead th {\n",
       "        text-align: right;\n",
       "    }\n",
       "</style>\n",
       "<table border=\"1\" class=\"dataframe\">\n",
       "  <thead>\n",
       "    <tr style=\"text-align: right;\">\n",
       "      <th></th>\n",
       "      <th>user_id</th>\n",
       "      <th>age</th>\n",
       "      <th>is_male</th>\n",
       "      <th>orig_user_id</th>\n",
       "    </tr>\n",
       "  </thead>\n",
       "  <tbody>\n",
       "    <tr>\n",
       "      <th>count</th>\n",
       "      <td>943.000000</td>\n",
       "      <td>943.000000</td>\n",
       "      <td>943.000000</td>\n",
       "      <td>943.000000</td>\n",
       "    </tr>\n",
       "    <tr>\n",
       "      <th>mean</th>\n",
       "      <td>471.000000</td>\n",
       "      <td>34.051962</td>\n",
       "      <td>0.710498</td>\n",
       "      <td>472.000000</td>\n",
       "    </tr>\n",
       "    <tr>\n",
       "      <th>std</th>\n",
       "      <td>272.364951</td>\n",
       "      <td>12.192740</td>\n",
       "      <td>0.453772</td>\n",
       "      <td>272.364951</td>\n",
       "    </tr>\n",
       "    <tr>\n",
       "      <th>min</th>\n",
       "      <td>0.000000</td>\n",
       "      <td>7.000000</td>\n",
       "      <td>0.000000</td>\n",
       "      <td>1.000000</td>\n",
       "    </tr>\n",
       "    <tr>\n",
       "      <th>25%</th>\n",
       "      <td>235.500000</td>\n",
       "      <td>25.000000</td>\n",
       "      <td>0.000000</td>\n",
       "      <td>236.500000</td>\n",
       "    </tr>\n",
       "    <tr>\n",
       "      <th>50%</th>\n",
       "      <td>471.000000</td>\n",
       "      <td>31.000000</td>\n",
       "      <td>1.000000</td>\n",
       "      <td>472.000000</td>\n",
       "    </tr>\n",
       "    <tr>\n",
       "      <th>75%</th>\n",
       "      <td>706.500000</td>\n",
       "      <td>43.000000</td>\n",
       "      <td>1.000000</td>\n",
       "      <td>707.500000</td>\n",
       "    </tr>\n",
       "    <tr>\n",
       "      <th>max</th>\n",
       "      <td>942.000000</td>\n",
       "      <td>73.000000</td>\n",
       "      <td>1.000000</td>\n",
       "      <td>943.000000</td>\n",
       "    </tr>\n",
       "  </tbody>\n",
       "</table>\n",
       "</div>"
      ],
      "text/plain": [
       "          user_id         age     is_male  orig_user_id\n",
       "count  943.000000  943.000000  943.000000    943.000000\n",
       "mean   471.000000   34.051962    0.710498    472.000000\n",
       "std    272.364951   12.192740    0.453772    272.364951\n",
       "min      0.000000    7.000000    0.000000      1.000000\n",
       "25%    235.500000   25.000000    0.000000    236.500000\n",
       "50%    471.000000   31.000000    1.000000    472.000000\n",
       "75%    706.500000   43.000000    1.000000    707.500000\n",
       "max    942.000000   73.000000    1.000000    943.000000"
      ]
     },
     "execution_count": 44,
     "metadata": {},
     "output_type": "execute_result"
    }
   ],
   "source": [
    "data2.describe()"
   ]
  },
  {
   "cell_type": "code",
   "execution_count": 45,
   "metadata": {},
   "outputs": [
    {
     "data": {
      "text/plain": [
       "0      1\n",
       "1      0\n",
       "2      1\n",
       "3      1\n",
       "4      0\n",
       "      ..\n",
       "938    0\n",
       "939    1\n",
       "940    1\n",
       "941    0\n",
       "942    1\n",
       "Name: is_male, Length: 943, dtype: int64"
      ]
     },
     "execution_count": 45,
     "metadata": {},
     "output_type": "execute_result"
    }
   ],
   "source": [
    "y = data2.is_male\n",
    "y"
   ]
  },
  {
   "cell_type": "code",
   "execution_count": 46,
   "metadata": {},
   "outputs": [],
   "source": [
    "from sklearn.linear_model import LogisticRegression\n",
    "U_i, Sigma, V_i = randomized_svd(adjacency_matrix, n_components=10,n_iter=5, random_state=24)\n",
    "clf = LogisticRegression(random_state=0).fit(U_i, y)"
   ]
  },
  {
   "cell_type": "code",
   "execution_count": 47,
   "metadata": {},
   "outputs": [
    {
     "data": {
      "text/plain": [
       "array([1.12645005, 0.772052  , 0.88250714, 0.88457701, 0.98765771,\n",
       "       0.98602573, 0.99290964, 1.21497923, 0.88162106, 1.06524487,\n",
       "       0.62669306, 0.77862096, 1.1482599 , 0.99571782, 0.77588938,\n",
       "       1.05474384, 0.87030358, 0.45866105, 0.86943432, 0.87447215,\n",
       "       0.89167772, 1.27706139, 0.92285629, 0.81429167, 0.92971491,\n",
       "       0.88693003, 0.87795162, 1.00897409, 0.92500395, 0.85538022,\n",
       "       0.95276098, 0.95159039, 0.85807266, 0.84968278, 0.87147001,\n",
       "       0.87315449, 1.21721514, 0.63276156, 0.85184237, 0.86566539,\n",
       "       0.98642543, 0.66723604, 0.56671799, 0.92524927, 0.86248345,\n",
       "       0.87970567, 0.85570597, 0.97748234, 0.84610259, 0.88978603,\n",
       "       0.92718067, 0.78157439, 0.95345771, 0.97236864, 1.0114203 ,\n",
       "       0.92398443, 0.89948113, 1.042017  , 0.93573095, 1.00061258,\n",
       "       0.86667643, 0.92868171, 0.84563307, 1.03480622, 0.67475126,\n",
       "       0.90691335, 0.93016539, 0.84782337, 1.02598817, 0.91225302,\n",
       "       0.94353049, 1.07194606, 1.01146313, 0.82432266, 0.90247015,\n",
       "       0.99057641, 1.0625959 , 0.83399642, 0.831309  , 0.86235231,\n",
       "       0.85761561, 0.88533642, 0.75384059, 0.84144576, 0.75189678,\n",
       "       0.85040114, 1.20370509, 0.84868804, 0.73686367, 0.72703892,\n",
       "       1.07189784, 0.9042381 , 0.81497839, 0.88323009, 0.79595594,\n",
       "       1.12137292, 1.02092484, 0.87849613, 0.99019276, 0.85328252,\n",
       "       0.87096971, 1.0962742 , 0.9487964 , 0.90671551, 0.85657345,\n",
       "       0.75963083, 0.87293777, 0.88538196, 0.95078975, 0.90003291,\n",
       "       0.83858506, 0.8313922 , 0.88347837, 1.03189455, 1.16443292,\n",
       "       0.96709439, 1.04654864, 1.06177393, 0.96566798, 0.85146644,\n",
       "       0.83867245, 0.78282914, 0.86720411, 0.98152761, 0.91584349,\n",
       "       0.83672681, 0.91567647, 0.48798005, 0.84720707, 1.05812793,\n",
       "       0.83524028, 0.94485602, 0.86172939, 0.83319845, 0.99985099,\n",
       "       0.86577928, 1.06505551, 0.96679774, 0.90365091, 0.84752696,\n",
       "       0.8289732 , 0.94411361, 0.85107529, 0.93965141, 1.11026434,\n",
       "       0.86484711, 0.82473608, 0.89118541, 0.84653818, 0.95415412,\n",
       "       0.51068917, 0.44380501, 0.95783582, 1.02970743, 0.85074791,\n",
       "       0.92319397, 0.9436231 , 1.31605816, 0.86005465, 1.21668551,\n",
       "       0.8771471 , 0.96758343, 0.83764641, 0.89486255, 0.8723782 ,\n",
       "       0.8548667 , 0.83778421, 0.79963373, 0.96169899, 0.85928612,\n",
       "       0.84600548, 0.90605061, 0.81156067, 0.40004253, 0.94704381,\n",
       "       0.94404128, 1.14421004, 0.91563383, 0.84975062, 0.72734675,\n",
       "       0.76145504, 0.87451285, 0.96601809, 0.46333113, 0.80839584,\n",
       "       0.96366219, 0.71860161, 0.95532122, 0.87593813, 0.88749198,\n",
       "       0.85414645, 0.85771537, 0.84796073, 0.90309594, 0.92967226,\n",
       "       0.77722342, 1.28686575, 1.00674702, 0.85042503, 0.85237102,\n",
       "       1.10619318, 0.90617064, 0.88393764, 0.8333778 , 0.86000249,\n",
       "       0.84408021, 0.99557918, 0.82208723, 0.89624314, 0.88855202,\n",
       "       0.91004893, 0.83769111, 1.0753894 , 1.10755986, 0.9775136 ,\n",
       "       0.91406132, 1.18332481, 1.02673908, 0.83648041, 0.82815507,\n",
       "       1.26562995, 0.88535993, 0.72484552, 0.55800994, 0.90995347,\n",
       "       0.90669661, 0.90035247, 0.83488878, 0.8640209 , 0.72724936,\n",
       "       0.86304383, 0.90491425, 0.7955118 , 0.80098253, 0.9991114 ,\n",
       "       0.73784371, 0.98118102, 0.82897692, 1.04452228, 0.84839654,\n",
       "       0.86409703, 0.8338512 , 0.66155543, 0.61682185, 0.8753    ,\n",
       "       0.92494553, 0.86093573, 1.11182659, 1.21059393, 0.90004474,\n",
       "       0.95090475, 0.85915461, 0.94717269, 0.77416551, 0.92086768,\n",
       "       0.92918119, 0.80702401, 0.83154489, 0.93017186, 0.86637062,\n",
       "       0.87540176, 0.51811916, 0.95401341, 0.94953092, 0.85920745,\n",
       "       0.81881322, 1.399421  , 1.29245351, 0.94812767, 0.65719273,\n",
       "       0.71502163, 1.09231493, 0.84855554, 0.67265251, 0.93242683,\n",
       "       1.13113096, 0.89192097, 0.85418729, 1.29054058, 0.64835298,\n",
       "       0.85274374, 0.87554581, 0.8681678 , 0.82738069, 0.88399153,\n",
       "       0.62983186, 0.93982008, 0.91064824, 0.91240191, 0.81869504,\n",
       "       0.96672817, 1.14788519, 1.10373746, 1.0236496 , 0.56597642,\n",
       "       1.06580301, 0.91863404, 0.87752487, 0.85107206, 0.88398068,\n",
       "       1.10754104, 0.87392272, 1.10437871, 0.84181637, 0.90833374,\n",
       "       0.82914914, 0.89691206, 1.02364894, 0.85857072, 0.87907995,\n",
       "       0.71030662, 0.98658544, 1.05070643, 0.38947786, 1.06448607,\n",
       "       0.76462933, 0.87844497, 0.62657937, 0.86787698, 1.16782305,\n",
       "       0.96638375, 1.02410989, 1.01544511, 0.83249869, 1.07757851,\n",
       "       1.10067922, 0.97431644, 1.03358431, 0.96810148, 0.47718429,\n",
       "       0.92112127, 1.14330234, 0.91171443, 0.85817314, 0.86603755,\n",
       "       0.78323899, 0.91638001, 0.88898895, 1.12219764, 0.80577933,\n",
       "       0.87352365, 0.8786201 , 0.88883409, 0.83574797, 0.46085917,\n",
       "       1.27782073, 1.12732146, 0.79995093, 0.84217128, 1.06531414,\n",
       "       0.83319514, 1.12965003, 0.83992449, 0.58935664, 0.85350866,\n",
       "       0.8481448 , 0.84609414, 0.84136404, 0.95582563, 0.95512074,\n",
       "       0.84229668, 0.85770499, 1.16500092, 0.85456166, 0.78820576,\n",
       "       0.88063306, 0.97124559, 0.97176778, 0.93297753, 1.01413331,\n",
       "       0.95724976, 0.88286114, 0.69524831, 1.05043935, 0.9142698 ,\n",
       "       0.85071414, 0.87966798, 0.32263725, 1.03837122, 0.8921857 ,\n",
       "       0.79738927, 0.97601013, 0.89115011, 0.86912769, 1.20570533,\n",
       "       1.00161029, 1.30690342, 0.79574932, 0.81189911, 0.81386023,\n",
       "       1.04049371, 1.00484873, 0.7900572 , 1.1438194 , 0.84653414,\n",
       "       0.85338939, 1.15712788, 0.90691494, 0.88536782, 0.83031569,\n",
       "       0.74808054, 0.97325912, 0.91352616, 0.82470582, 0.81969562,\n",
       "       0.88598586, 0.95552248, 0.85802594, 1.00630446, 0.85074324,\n",
       "       0.96123364, 1.01269774, 0.85327106, 0.86599565, 0.94279098,\n",
       "       0.44755463, 1.02440271, 0.85930801, 0.90160749, 0.87578336,\n",
       "       1.12597021, 0.93150396, 0.84069037, 0.82550849, 1.38159904,\n",
       "       0.96089773, 0.83350025, 0.82966221, 1.06640853, 0.96109504,\n",
       "       0.85973757, 0.89368772, 0.9488362 , 0.78219656, 1.17802916,\n",
       "       0.81473264, 0.54088139, 0.84081358, 0.88301581, 0.78630511,\n",
       "       0.85946458, 1.14132619, 0.87185923, 0.86874319, 1.00874617,\n",
       "       0.84947501, 1.05312007, 0.86491494, 0.86199407, 0.43418421,\n",
       "       0.82788135, 0.94292499, 1.04781778, 0.76663673, 0.751014  ,\n",
       "       0.98792764, 0.6144818 , 0.97615838, 0.89681581, 0.8945349 ,\n",
       "       0.85866782, 0.83807276, 0.80196744, 0.95893448, 0.93209513,\n",
       "       1.23748209, 1.01915717, 0.84758461, 0.95105757, 0.89859177,\n",
       "       0.79649811, 0.96471956, 0.93393726, 1.01205849, 0.89028161,\n",
       "       0.83976245, 0.73109644, 0.80800329, 1.08998548, 1.01335934,\n",
       "       0.88114844, 0.89126819, 0.89492278, 0.95876588, 0.85868182,\n",
       "       0.84862524, 0.89527018, 0.95501926, 0.83048422, 0.96427344,\n",
       "       0.96353973, 0.91975708, 1.19138201, 0.86263063, 0.99374633,\n",
       "       0.90601649, 1.17959091, 1.12517503, 0.95408922, 0.72674852,\n",
       "       0.97064782, 0.87284742, 0.77601148, 0.53955817, 0.84900562,\n",
       "       1.12220055, 0.93326317, 0.89663405, 0.9022423 , 0.83993211,\n",
       "       0.87200212, 0.90486729, 0.96850439, 0.8559974 , 0.84833267,\n",
       "       0.91665907, 0.88272877, 0.87803771, 0.88189454, 0.84230694,\n",
       "       1.2214222 , 1.00645305, 0.70185407, 0.98985455, 0.86100016,\n",
       "       0.89448321, 1.08272478, 0.94870729, 0.83049275, 0.82286678,\n",
       "       0.84920862, 0.84061106, 0.7791341 , 0.92568435, 0.80041856,\n",
       "       0.82350566, 0.99429669, 0.9735881 , 0.79483595, 0.87984205,\n",
       "       0.60624269, 0.90922742, 1.05739271, 0.8589251 , 1.07892138,\n",
       "       0.93835014, 0.84352203, 1.10835948, 0.88656724, 0.82565773,\n",
       "       1.00983327, 0.83689965, 1.00544319, 0.7517142 , 0.95566216,\n",
       "       0.92826034, 0.9678687 , 0.83468997, 1.05370671, 0.99677864,\n",
       "       1.06125494, 0.86817418, 0.87200231, 0.92222921, 0.81935929,\n",
       "       0.85016655, 1.31854649, 0.98350123, 0.79235857, 0.87286925,\n",
       "       0.92201959, 0.83407549, 0.94861301, 0.84192186, 0.93199341,\n",
       "       0.88207283, 0.71216553, 0.88867232, 0.79608072, 0.90661156,\n",
       "       0.93156589, 0.90793259, 0.92356039, 0.94262759, 0.77739197,\n",
       "       1.18903133, 0.81023956, 0.43531911, 0.83226164, 0.82350985,\n",
       "       0.84115329, 1.19504202, 0.4563353 , 0.88328379, 0.9122185 ,\n",
       "       0.87894151, 0.88278646, 0.86214732, 0.76681076, 1.31481657,\n",
       "       0.89091992, 0.89702859, 1.02940313, 0.90259914, 0.78876292,\n",
       "       0.93939563, 0.92660546, 0.69536073, 0.83273644, 0.79289519,\n",
       "       0.85248605, 0.85661799, 0.92336114, 0.85406264, 0.74889169,\n",
       "       0.83138109, 0.95375044, 0.77096157, 1.21766764, 0.6600044 ,\n",
       "       1.05574547, 1.08890473, 0.9160376 , 0.89243256, 1.03545579,\n",
       "       0.84332325, 1.10079832, 0.83291635, 0.95770318, 0.86763595,\n",
       "       0.84585261, 0.97309947, 0.95081509, 0.8256571 , 0.85122858,\n",
       "       0.81631483, 0.79881904, 1.20313576, 0.63973834, 1.16562313,\n",
       "       0.94361041, 0.3880893 , 1.13868217, 0.9209303 , 1.12096292,\n",
       "       0.84200908, 0.8577959 , 1.22242217, 0.94635763, 1.05642924,\n",
       "       0.89805465, 0.84398892, 1.11325643, 0.80628522, 0.87541632,\n",
       "       0.87542535, 0.86461274, 1.02849238, 0.98646899, 1.04206636,\n",
       "       0.86186465, 0.87181982, 0.98572112, 0.98954381, 0.85099684,\n",
       "       1.11358872, 0.81979894, 0.88183461, 1.07110961, 0.99261991,\n",
       "       1.21140023, 0.83799089, 0.85249838, 0.86411561, 0.81491716,\n",
       "       0.94366121, 0.89077352, 0.89802404, 0.83650628, 0.88867932,\n",
       "       0.84158896, 0.99995327, 0.87855606, 0.7353485 , 0.88322008,\n",
       "       1.09427909, 0.84523863, 0.86284294, 0.93778028, 0.86553941,\n",
       "       0.88748714, 0.86849759, 0.92782559, 0.95311252, 0.85918189,\n",
       "       0.87278074, 0.89878596, 0.97610842, 0.89584832, 0.94806975,\n",
       "       0.84807804, 0.88678256, 0.87837477, 0.92586937, 0.90682921,\n",
       "       0.87783136, 0.54396498, 0.75025158, 1.17064956, 1.02481174,\n",
       "       0.3167789 , 0.49925482, 0.86729761, 0.89018414, 1.07678978,\n",
       "       0.70562532, 0.87705625, 0.87054884, 0.73045998, 0.84412477,\n",
       "       0.68956169, 0.83891384, 0.90197817, 0.83889915, 0.83818474,\n",
       "       0.85906302, 1.16531117, 0.85037482, 0.88175372, 0.87819179,\n",
       "       0.70020351, 0.82766304, 0.85561103, 0.76926216, 0.8424797 ,\n",
       "       0.92222318, 1.00413917, 1.13142992, 0.94627076, 0.84759378,\n",
       "       0.78913782, 0.91683622, 0.86221956, 0.94461252, 0.9904382 ,\n",
       "       1.18885483, 0.95956423, 0.99316887, 0.97362044, 0.8512029 ,\n",
       "       0.79033288, 0.86138818, 0.99434676, 0.87140037, 0.83632393,\n",
       "       0.88333268, 1.22480528, 1.28058501, 0.86878788, 0.80693598,\n",
       "       0.84051867, 0.87876596, 0.85946342, 0.6720946 , 0.83531825,\n",
       "       0.97090533, 0.95228856, 0.76012535, 0.84758691, 0.83750374,\n",
       "       0.6771816 , 0.8459203 , 1.04990665, 1.13754238, 0.85033728,\n",
       "       1.05035373, 0.87771294, 0.94532922, 0.83047336, 0.90494813,\n",
       "       1.00940096, 0.8800164 , 0.85970633, 0.83920469, 0.9499871 ,\n",
       "       0.70900914, 0.83527105, 1.02674345, 0.92172797, 0.920003  ,\n",
       "       0.83895066, 0.86396246, 0.96570182, 0.96731744, 1.00455993,\n",
       "       0.80432131, 0.90498052, 0.5447012 , 0.9067037 , 0.85546655,\n",
       "       0.85818153, 0.91479369, 0.8505659 , 1.20676384, 0.8547936 ,\n",
       "       1.13663136, 1.00820478, 0.86576149, 0.85415327, 0.82518349,\n",
       "       0.8311532 , 0.85773686, 0.87991901, 0.90525423, 0.80683109,\n",
       "       0.85759294, 0.90694848, 0.85993787, 0.88709159, 0.86145658,\n",
       "       0.75100331, 0.86833265, 0.98011593, 0.85712074, 1.02501325,\n",
       "       1.2666327 , 0.84523593, 0.80988727, 0.8241506 , 1.08933885,\n",
       "       0.98182649, 0.85744807, 1.43576579, 0.85680172, 0.6604974 ,\n",
       "       0.94133819, 0.7319391 , 0.95036793, 0.87230212, 0.98202186,\n",
       "       0.87100217, 0.87943192, 1.0467222 , 0.9325504 , 0.85863839,\n",
       "       1.06308382, 0.83938985, 0.8526227 , 0.86413676, 0.84648455,\n",
       "       1.13313301, 0.97114254, 0.85466467, 1.0086655 , 0.8722267 ,\n",
       "       0.85101461, 0.85003553, 0.89525069, 0.8147326 , 0.79532991,\n",
       "       0.73775581, 1.28470533, 0.81810523, 0.82878742, 0.91712935,\n",
       "       0.8732006 , 1.15266528, 1.17225692, 0.86911098, 1.08906008,\n",
       "       1.04776007, 0.81470348, 0.85294488, 0.89369376, 1.00210978,\n",
       "       0.88759114, 0.74332393, 0.64962674, 0.83858572, 1.19963689,\n",
       "       1.01978151, 0.81496711, 1.07491235, 0.82439553, 0.69882294,\n",
       "       1.25018022, 0.72564053, 0.84233934, 1.31988647, 1.03523518,\n",
       "       0.79973483, 1.06685229, 0.93011695, 0.74225736, 0.86281899,\n",
       "       1.06017136, 0.98154545, 0.86413243, 0.88578679, 0.91875511,\n",
       "       0.87320855, 0.95298049, 1.11148889, 0.69617764, 0.90463418,\n",
       "       0.88390205, 0.56025083, 1.01368044, 0.77171581, 1.00497459,\n",
       "       0.87849955, 0.82937447, 1.03806842, 0.79082501, 0.85939501,\n",
       "       1.06837969, 0.82499998, 0.69944171, 0.56155949, 0.85380941,\n",
       "       0.77302605, 0.85030617, 0.94975492, 0.96120592, 0.85768257,\n",
       "       0.83452099, 0.78951872, 0.91601903, 1.04885514, 0.84024598,\n",
       "       0.83600379, 1.20025192, 1.1141713 , 0.89801524, 0.83343741,\n",
       "       0.86662675, 0.83138312, 0.82065093, 0.80173392, 0.90151007,\n",
       "       0.94748302, 0.88918098, 1.13353948])"
      ]
     },
     "execution_count": 47,
     "metadata": {},
     "output_type": "execute_result"
    }
   ],
   "source": [
    "y_score = clf.decision_function(U_i)\n",
    "y_score"
   ]
  },
  {
   "cell_type": "code",
   "execution_count": 48,
   "metadata": {},
   "outputs": [
    {
     "data": {
      "text/plain": [
       "array([1, 1, 1, 1, 1, 1, 1, 1, 1, 1, 1, 1, 1, 1, 1, 1, 1, 1, 1, 1, 1, 1,\n",
       "       1, 1, 1, 1, 1, 1, 1, 1, 1, 1, 1, 1, 1, 1, 1, 1, 1, 1, 1, 1, 1, 1,\n",
       "       1, 1, 1, 1, 1, 1, 1, 1, 1, 1, 1, 1, 1, 1, 1, 1, 1, 1, 1, 1, 1, 1,\n",
       "       1, 1, 1, 1, 1, 1, 1, 1, 1, 1, 1, 1, 1, 1, 1, 1, 1, 1, 1, 1, 1, 1,\n",
       "       1, 1, 1, 1, 1, 1, 1, 1, 1, 1, 1, 1, 1, 1, 1, 1, 1, 1, 1, 1, 1, 1,\n",
       "       1, 1, 1, 1, 1, 1, 1, 1, 1, 1, 1, 1, 1, 1, 1, 1, 1, 1, 1, 1, 1, 1,\n",
       "       1, 1, 1, 1, 1, 1, 1, 1, 1, 1, 1, 1, 1, 1, 1, 1, 1, 1, 1, 1, 1, 1,\n",
       "       1, 1, 1, 1, 1, 1, 1, 1, 1, 1, 1, 1, 1, 1, 1, 1, 1, 1, 1, 1, 1, 1,\n",
       "       1, 1, 1, 1, 1, 1, 1, 1, 1, 1, 1, 1, 1, 1, 1, 1, 1, 1, 1, 1, 1, 1,\n",
       "       1, 1, 1, 1, 1, 1, 1, 1, 1, 1, 1, 1, 1, 1, 1, 1, 1, 1, 1, 1, 1, 1,\n",
       "       1, 1, 1, 1, 1, 1, 1, 1, 1, 1, 1, 1, 1, 1, 1, 1, 1, 1, 1, 1, 1, 1,\n",
       "       1, 1, 1, 1, 1, 1, 1, 1, 1, 1, 1, 1, 1, 1, 1, 1, 1, 1, 1, 1, 1, 1,\n",
       "       1, 1, 1, 1, 1, 1, 1, 1, 1, 1, 1, 1, 1, 1, 1, 1, 1, 1, 1, 1, 1, 1,\n",
       "       1, 1, 1, 1, 1, 1, 1, 1, 1, 1, 1, 1, 1, 1, 1, 1, 1, 1, 1, 1, 1, 1,\n",
       "       1, 1, 1, 1, 1, 1, 1, 1, 1, 1, 1, 1, 1, 1, 1, 1, 1, 1, 1, 1, 1, 1,\n",
       "       1, 1, 1, 1, 1, 1, 1, 1, 1, 1, 1, 1, 1, 1, 1, 1, 1, 1, 1, 1, 1, 1,\n",
       "       1, 1, 1, 1, 1, 1, 1, 1, 1, 1, 1, 1, 1, 1, 1, 1, 1, 1, 1, 1, 1, 1,\n",
       "       1, 1, 1, 1, 1, 1, 1, 1, 1, 1, 1, 1, 1, 1, 1, 1, 1, 1, 1, 1, 1, 1,\n",
       "       1, 1, 1, 1, 1, 1, 1, 1, 1, 1, 1, 1, 1, 1, 1, 1, 1, 1, 1, 1, 1, 1,\n",
       "       1, 1, 1, 1, 1, 1, 1, 1, 1, 1, 1, 1, 1, 1, 1, 1, 1, 1, 1, 1, 1, 1,\n",
       "       1, 1, 1, 1, 1, 1, 1, 1, 1, 1, 1, 1, 1, 1, 1, 1, 1, 1, 1, 1, 1, 1,\n",
       "       1, 1, 1, 1, 1, 1, 1, 1, 1, 1, 1, 1, 1, 1, 1, 1, 1, 1, 1, 1, 1, 1,\n",
       "       1, 1, 1, 1, 1, 1, 1, 1, 1, 1, 1, 1, 1, 1, 1, 1, 1, 1, 1, 1, 1, 1,\n",
       "       1, 1, 1, 1, 1, 1, 1, 1, 1, 1, 1, 1, 1, 1, 1, 1, 1, 1, 1, 1, 1, 1,\n",
       "       1, 1, 1, 1, 1, 1, 1, 1, 1, 1, 1, 1, 1, 1, 1, 1, 1, 1, 1, 1, 1, 1,\n",
       "       1, 1, 1, 1, 1, 1, 1, 1, 1, 1, 1, 1, 1, 1, 1, 1, 1, 1, 1, 1, 1, 1,\n",
       "       1, 1, 1, 1, 1, 1, 1, 1, 1, 1, 1, 1, 1, 1, 1, 1, 1, 1, 1, 1, 1, 1,\n",
       "       1, 1, 1, 1, 1, 1, 1, 1, 1, 1, 1, 1, 1, 1, 1, 1, 1, 1, 1, 1, 1, 1,\n",
       "       1, 1, 1, 1, 1, 1, 1, 1, 1, 1, 1, 1, 1, 1, 1, 1, 1, 1, 1, 1, 1, 1,\n",
       "       1, 1, 1, 1, 1, 1, 1, 1, 1, 1, 1, 1, 1, 1, 1, 1, 1, 1, 1, 1, 1, 1,\n",
       "       1, 1, 1, 1, 1, 1, 1, 1, 1, 1, 1, 1, 1, 1, 1, 1, 1, 1, 1, 1, 1, 1,\n",
       "       1, 1, 1, 1, 1, 1, 1, 1, 1, 1, 1, 1, 1, 1, 1, 1, 1, 1, 1, 1, 1, 1,\n",
       "       1, 1, 1, 1, 1, 1, 1, 1, 1, 1, 1, 1, 1, 1, 1, 1, 1, 1, 1, 1, 1, 1,\n",
       "       1, 1, 1, 1, 1, 1, 1, 1, 1, 1, 1, 1, 1, 1, 1, 1, 1, 1, 1, 1, 1, 1,\n",
       "       1, 1, 1, 1, 1, 1, 1, 1, 1, 1, 1, 1, 1, 1, 1, 1, 1, 1, 1, 1, 1, 1,\n",
       "       1, 1, 1, 1, 1, 1, 1, 1, 1, 1, 1, 1, 1, 1, 1, 1, 1, 1, 1, 1, 1, 1,\n",
       "       1, 1, 1, 1, 1, 1, 1, 1, 1, 1, 1, 1, 1, 1, 1, 1, 1, 1, 1, 1, 1, 1,\n",
       "       1, 1, 1, 1, 1, 1, 1, 1, 1, 1, 1, 1, 1, 1, 1, 1, 1, 1, 1, 1, 1, 1,\n",
       "       1, 1, 1, 1, 1, 1, 1, 1, 1, 1, 1, 1, 1, 1, 1, 1, 1, 1, 1, 1, 1, 1,\n",
       "       1, 1, 1, 1, 1, 1, 1, 1, 1, 1, 1, 1, 1, 1, 1, 1, 1, 1, 1, 1, 1, 1,\n",
       "       1, 1, 1, 1, 1, 1, 1, 1, 1, 1, 1, 1, 1, 1, 1, 1, 1, 1, 1, 1, 1, 1,\n",
       "       1, 1, 1, 1, 1, 1, 1, 1, 1, 1, 1, 1, 1, 1, 1, 1, 1, 1, 1, 1, 1, 1,\n",
       "       1, 1, 1, 1, 1, 1, 1, 1, 1, 1, 1, 1, 1, 1, 1, 1, 1, 1, 1],\n",
       "      dtype=int64)"
      ]
     },
     "execution_count": 48,
     "metadata": {},
     "output_type": "execute_result"
    }
   ],
   "source": [
    "y_pred = clf.predict(U_i)\n",
    "y_pred"
   ]
  },
  {
   "cell_type": "code",
   "execution_count": 49,
   "metadata": {},
   "outputs": [],
   "source": [
    "y = np.array(y)"
   ]
  },
  {
   "cell_type": "code",
   "execution_count": 50,
   "metadata": {},
   "outputs": [
    {
     "data": {
      "text/plain": [
       "0.745071346563884"
      ]
     },
     "execution_count": 50,
     "metadata": {},
     "output_type": "execute_result"
    }
   ],
   "source": [
    "from sklearn.metrics import roc_auc_score\n",
    "roc_auc_score(y,y_score)"
   ]
  },
  {
   "cell_type": "code",
   "execution_count": 51,
   "metadata": {},
   "outputs": [
    {
     "data": {
      "text/plain": [
       "array([[  0, 273],\n",
       "       [  0, 670]], dtype=int64)"
      ]
     },
     "execution_count": 51,
     "metadata": {},
     "output_type": "execute_result"
    }
   ],
   "source": [
    "from sklearn.metrics import confusion_matrix\n",
    "confusion_matrix(y, y_pred)"
   ]
  },
  {
   "cell_type": "code",
   "execution_count": null,
   "metadata": {},
   "outputs": [],
   "source": []
  }
 ],
 "metadata": {
  "colab": {
   "collapsed_sections": [],
   "name": "Recommendation_system_assignment.ipynb",
   "provenance": []
  },
  "kernelspec": {
   "display_name": "Python 3",
   "language": "python",
   "name": "python3"
  },
  "language_info": {
   "codemirror_mode": {
    "name": "ipython",
    "version": 3
   },
   "file_extension": ".py",
   "mimetype": "text/x-python",
   "name": "python",
   "nbconvert_exporter": "python",
   "pygments_lexer": "ipython3",
   "version": "3.8.3"
  }
 },
 "nbformat": 4,
 "nbformat_minor": 1
}
