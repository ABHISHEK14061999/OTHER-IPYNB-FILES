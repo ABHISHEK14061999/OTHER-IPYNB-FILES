{
  "nbformat": 4,
  "nbformat_minor": 0,
  "metadata": {
    "colab": {
      "name": "Copy of Practice Questions On Functions.ipynb",
      "provenance": [],
      "collapsed_sections": []
    },
    "kernelspec": {
      "name": "python3",
      "display_name": "Python 3"
    }
  },
  "cells": [
    {
      "cell_type": "markdown",
      "metadata": {
        "id": "c99jnooepN6X"
      },
      "source": [
        "1.Write a function that inputs a number and prints the multiplication table of that number"
      ]
    },
    {
      "cell_type": "code",
      "metadata": {
        "id": "xcaHOl3UkC8g",
        "colab": {
          "base_uri": "https://localhost:8080/"
        },
        "outputId": "894a474f-aac2-45b8-fec0-2865d67d15d8"
      },
      "source": [
        "def number_table(n):\n",
        "  for i in range(1,11):\n",
        "    res = int(n) * int(i)\n",
        "    print(\"{} * {}  : {}\".format(n,i,res))\n",
        " \n",
        "num = input(\"Enter your number: \")\n",
        "print(\"multiplication table of the {} is :\".format(num))\n",
        "number_table(num)\n"
      ],
      "execution_count": 1,
      "outputs": [
        {
          "output_type": "stream",
          "text": [
            "Enter your number: 25\n",
            "multiplication table of the 25 is :\n",
            "25 * 1  : 25\n",
            "25 * 2  : 50\n",
            "25 * 3  : 75\n",
            "25 * 4  : 100\n",
            "25 * 5  : 125\n",
            "25 * 6  : 150\n",
            "25 * 7  : 175\n",
            "25 * 8  : 200\n",
            "25 * 9  : 225\n",
            "25 * 10  : 250\n"
          ],
          "name": "stdout"
        }
      ]
    },
    {
      "cell_type": "code",
      "metadata": {
        "id": "JTgZpzd-TgAd"
      },
      "source": [
        ""
      ],
      "execution_count": null,
      "outputs": []
    },
    {
      "cell_type": "markdown",
      "metadata": {
        "id": "8kmshPi61Sua"
      },
      "source": [
        "2. Write a program to print twin primes less than 1000. If two consecutive odd numbers are both prime then they are known as twin primes"
      ]
    },
    {
      "cell_type": "code",
      "metadata": {
        "id": "2LvRp_OF-0C9",
        "colab": {
          "base_uri": "https://localhost:8080/"
        },
        "outputId": "080bfe75-7c06-47bc-f46b-b1808e8a83f2"
      },
      "source": [
        "def twin_prime(lst):\n",
        "  odd_list = list(map(lambda a:a,filter(lambda b: b%2 , lst)))\n",
        "  print(odd_list)\n",
        "  \n",
        "  p_lst=[]\n",
        "  val = odd_list[-1]\n",
        "      \n",
        "  for i in odd_list:\n",
        "    #print(i)\n",
        "    if i >1:\n",
        "      for j in range(2,i):                      \n",
        "        if (i%j)== 0:\n",
        "          #print(\"number is not prime\",i)\n",
        "          break\n",
        "      else:\n",
        "        #print(\"number is prime\",i)\n",
        "        p_lst.append(i)\n",
        "  #print(p_lst)\n",
        "\n",
        "# to check twin odd primes number\n",
        "  for j in range(0,len(p_lst)-1):\n",
        "    if abs(p_lst[j] - p_lst[j + 1]) == 2.0:\n",
        "      print(p_lst[j],p_lst[j+1])\n",
        "\n",
        "  \n",
        "prime_list= range(1,1000)\n",
        "twin_prime(prime_list)"
      ],
      "execution_count": 2,
      "outputs": [
        {
          "output_type": "stream",
          "text": [
            "[1, 3, 5, 7, 9, 11, 13, 15, 17, 19, 21, 23, 25, 27, 29, 31, 33, 35, 37, 39, 41, 43, 45, 47, 49, 51, 53, 55, 57, 59, 61, 63, 65, 67, 69, 71, 73, 75, 77, 79, 81, 83, 85, 87, 89, 91, 93, 95, 97, 99, 101, 103, 105, 107, 109, 111, 113, 115, 117, 119, 121, 123, 125, 127, 129, 131, 133, 135, 137, 139, 141, 143, 145, 147, 149, 151, 153, 155, 157, 159, 161, 163, 165, 167, 169, 171, 173, 175, 177, 179, 181, 183, 185, 187, 189, 191, 193, 195, 197, 199, 201, 203, 205, 207, 209, 211, 213, 215, 217, 219, 221, 223, 225, 227, 229, 231, 233, 235, 237, 239, 241, 243, 245, 247, 249, 251, 253, 255, 257, 259, 261, 263, 265, 267, 269, 271, 273, 275, 277, 279, 281, 283, 285, 287, 289, 291, 293, 295, 297, 299, 301, 303, 305, 307, 309, 311, 313, 315, 317, 319, 321, 323, 325, 327, 329, 331, 333, 335, 337, 339, 341, 343, 345, 347, 349, 351, 353, 355, 357, 359, 361, 363, 365, 367, 369, 371, 373, 375, 377, 379, 381, 383, 385, 387, 389, 391, 393, 395, 397, 399, 401, 403, 405, 407, 409, 411, 413, 415, 417, 419, 421, 423, 425, 427, 429, 431, 433, 435, 437, 439, 441, 443, 445, 447, 449, 451, 453, 455, 457, 459, 461, 463, 465, 467, 469, 471, 473, 475, 477, 479, 481, 483, 485, 487, 489, 491, 493, 495, 497, 499, 501, 503, 505, 507, 509, 511, 513, 515, 517, 519, 521, 523, 525, 527, 529, 531, 533, 535, 537, 539, 541, 543, 545, 547, 549, 551, 553, 555, 557, 559, 561, 563, 565, 567, 569, 571, 573, 575, 577, 579, 581, 583, 585, 587, 589, 591, 593, 595, 597, 599, 601, 603, 605, 607, 609, 611, 613, 615, 617, 619, 621, 623, 625, 627, 629, 631, 633, 635, 637, 639, 641, 643, 645, 647, 649, 651, 653, 655, 657, 659, 661, 663, 665, 667, 669, 671, 673, 675, 677, 679, 681, 683, 685, 687, 689, 691, 693, 695, 697, 699, 701, 703, 705, 707, 709, 711, 713, 715, 717, 719, 721, 723, 725, 727, 729, 731, 733, 735, 737, 739, 741, 743, 745, 747, 749, 751, 753, 755, 757, 759, 761, 763, 765, 767, 769, 771, 773, 775, 777, 779, 781, 783, 785, 787, 789, 791, 793, 795, 797, 799, 801, 803, 805, 807, 809, 811, 813, 815, 817, 819, 821, 823, 825, 827, 829, 831, 833, 835, 837, 839, 841, 843, 845, 847, 849, 851, 853, 855, 857, 859, 861, 863, 865, 867, 869, 871, 873, 875, 877, 879, 881, 883, 885, 887, 889, 891, 893, 895, 897, 899, 901, 903, 905, 907, 909, 911, 913, 915, 917, 919, 921, 923, 925, 927, 929, 931, 933, 935, 937, 939, 941, 943, 945, 947, 949, 951, 953, 955, 957, 959, 961, 963, 965, 967, 969, 971, 973, 975, 977, 979, 981, 983, 985, 987, 989, 991, 993, 995, 997, 999]\n",
            "3 5\n",
            "5 7\n",
            "11 13\n",
            "17 19\n",
            "29 31\n",
            "41 43\n",
            "59 61\n",
            "71 73\n",
            "101 103\n",
            "107 109\n",
            "137 139\n",
            "149 151\n",
            "179 181\n",
            "191 193\n",
            "197 199\n",
            "227 229\n",
            "239 241\n",
            "269 271\n",
            "281 283\n",
            "311 313\n",
            "347 349\n",
            "419 421\n",
            "431 433\n",
            "461 463\n",
            "521 523\n",
            "569 571\n",
            "599 601\n",
            "617 619\n",
            "641 643\n",
            "659 661\n",
            "809 811\n",
            "821 823\n",
            "827 829\n",
            "857 859\n",
            "881 883\n"
          ],
          "name": "stdout"
        }
      ]
    },
    {
      "cell_type": "markdown",
      "metadata": {
        "id": "SILlPbJQ19Zh"
      },
      "source": [
        "3.Write a program to find out the prime factors of a number. Example: prime factors of 56 - 2, 2, 2, 7"
      ]
    },
    {
      "cell_type": "code",
      "metadata": {
        "id": "nS8UTMi_2NxB",
        "colab": {
          "base_uri": "https://localhost:8080/"
        },
        "outputId": "463ddf04-36bf-4cc8-8cc2-139eab7ad704"
      },
      "source": [
        "import math\n",
        "import pdb; \n",
        "\n",
        "def prime_factor(n):\n",
        "\n",
        "  n = int(n)\n",
        "# to check the if number is even\n",
        "  while(int(n)%2 == 0):\n",
        "    print(2)\n",
        "    n = int(n)/2\n",
        "# to check if number is odd\n",
        "# pdb.set_trace()\n",
        "#  print(type(n))\n",
        "  for i in range(3, int(math.sqrt(n))+1, 2):\n",
        "#    pdb.set_trace()\n",
        "#    print(type(i))\n",
        "    while(int(n)% int(i) == 0):\n",
        "      print(i)\n",
        "      n= int(n)/ i\n",
        "# if number is itself prime number\n",
        "  if n > 2:\n",
        "    print(n)\n",
        "\n",
        "num = input(\"Enter your number: \")\n",
        "print(\"prime factor of the {} is :\".format(num))\n",
        "prime_factor(num)"
      ],
      "execution_count": 3,
      "outputs": [
        {
          "output_type": "stream",
          "text": [
            "Enter your number: 5\n",
            "prime factor of the 5 is :\n",
            "5\n"
          ],
          "name": "stdout"
        }
      ]
    },
    {
      "cell_type": "markdown",
      "metadata": {
        "id": "o2lGJ5gG3bPu"
      },
      "source": [
        "4. Write a program to implement these formulae of permutations and combinations. Number of permutations of n objects taken r at a time: p(n, r) = n! / (n-r)!. Number of combinations of n objects taken r at a time is: c(n, r) = n! / (r!*(n-r)!) = p(n,r) / r!"
      ]
    },
    {
      "cell_type": "code",
      "metadata": {
        "id": "ns-9PoMh3aez",
        "colab": {
          "base_uri": "https://localhost:8080/"
        },
        "outputId": "6d9d6ee3-2068-4583-a8d5-397dc61139f0"
      },
      "source": [
        "def fact(n):\n",
        "  if (n==0 or n==1):\n",
        "    return 1\n",
        "  else:\n",
        "    return int(n) * fact(int(n)-1)\n",
        "#print(\" factorial of n is\", f)\n",
        "\n",
        "def permut(num,freq):\n",
        "   p = fact(int(num))/fact(int(num)-int(freq))\n",
        "   print(\"permutation of number is :\",p)\n",
        "\n",
        "def combin(num,freq):\n",
        "  c = fact(int(num))/(fact(int(freq))* fact(int(num)-int(freq)))\n",
        "  print(\"combination of number is :\",c)\n",
        "\n",
        "\n",
        "\n",
        "n = input(\"Enter number for objects: \")\n",
        "r = input(\"Enter value for r: \")\n",
        "permut(n,r)\n",
        "combin(n,r)\n",
        "\n",
        "\n",
        "\n",
        "\n"
      ],
      "execution_count": 4,
      "outputs": [
        {
          "output_type": "stream",
          "text": [
            "Enter number for objects: 55\n",
            "Enter value for r: 6\n",
            "permutation of number is : 20872566000.0\n",
            "combination of number is : 28989675.0\n"
          ],
          "name": "stdout"
        }
      ]
    },
    {
      "cell_type": "markdown",
      "metadata": {
        "id": "AqO6hhD03omK"
      },
      "source": [
        "5. Write a function that converts a decimal number to binary number"
      ]
    },
    {
      "cell_type": "code",
      "metadata": {
        "id": "XHh4enb03vRV",
        "colab": {
          "base_uri": "https://localhost:8080/"
        },
        "outputId": "c3dddc2d-9fcd-49de-8dff-bf0417aa3df3"
      },
      "source": [
        "def dec_to_biary(n):\n",
        "    a= True\n",
        "    s=''\n",
        "    while(a):\n",
        "      q = int(n)/2\n",
        "      r = int(n) % 2\n",
        "      n = int(q)\n",
        "      s = s + str(r)\n",
        "#      print(s)\n",
        "      if n == 0:\n",
        "        break        \n",
        "#    print(s)\n",
        "    strlength=len(s) \n",
        "    res=s[strlength::-1]\n",
        "    print (res)\n",
        " \n",
        "num = input(\"Enter your number: \")\n",
        "print(\"binary number of the {} is :\".format(num))\n",
        "dec_to_biary(num)"
      ],
      "execution_count": 6,
      "outputs": [
        {
          "output_type": "stream",
          "text": [
            "Enter your number: 5\n",
            "binary number of the 5 is :\n",
            "101\n"
          ],
          "name": "stdout"
        }
      ]
    },
    {
      "cell_type": "markdown",
      "metadata": {
        "id": "cSX_qubVqEyy"
      },
      "source": [
        "6. Write a function cubesum() that accepts an integer and returns the sum of the cubes of\n",
        "individual digits of that number. Use this function to make functions PrintArmstrong() and\n",
        "isArmstrong() to print Armstrong numbers and to find whether is an Armstrong number."
      ]
    },
    {
      "cell_type": "code",
      "metadata": {
        "id": "DxOvBZrnqVvv",
        "colab": {
          "base_uri": "https://localhost:8080/"
        },
        "outputId": "e29c2e3d-0eda-4740-b3d2-16fad0d9a889"
      },
      "source": [
        "def cubesum(n):\n",
        "    res =0\n",
        "    while(int(n) > 0 ):\n",
        "      r= int(n)% 10\n",
        "      res = res + int(r**3)\n",
        "      n = int(n) / 10\n",
        "      if n ==0:\n",
        "        break\n",
        "    return res\n",
        "  \n",
        "def PrintArmstrong(x):\n",
        "  x = int(x)\n",
        "  y = cubesum(x)\n",
        "  if (y == x):\n",
        "    print('number {} is Armstrong'.format(x))\n",
        "  else:\n",
        "    print('number {} is not Armstrong'.format(x))\n",
        "\n",
        "num = input(\"Enter your number: \")\n",
        "PrintArmstrong(num)\n",
        "\n",
        "    "
      ],
      "execution_count": 7,
      "outputs": [
        {
          "output_type": "stream",
          "text": [
            "Enter your number: 89\n",
            "number 89 is not Armstrong\n"
          ],
          "name": "stdout"
        }
      ]
    },
    {
      "cell_type": "markdown",
      "metadata": {
        "id": "YEGH7dSk1MCw"
      },
      "source": [
        "7. Write a function prodDigits() that inputs a number and returns the product of digits of that\n",
        "number\n"
      ]
    },
    {
      "cell_type": "code",
      "metadata": {
        "id": "MrTTy3VNjz0L",
        "colab": {
          "base_uri": "https://localhost:8080/"
        },
        "outputId": "8ad3f931-6c7d-4aa7-acca-8b1ba537c677"
      },
      "source": [
        "def prodDigits(n):\n",
        "    res =1\n",
        "    while(int(n) > 0 ):\n",
        "      r= int(n)% 10\n",
        "      res = res * int(r)\n",
        "      n = int(n) / 10\n",
        "      if n ==0:\n",
        "         break\n",
        "    print(res)\n",
        "\n",
        "num = input(\"Enter your number: \")\n",
        "print(\"product of digits of number {} is :\".format(num))\n",
        "prodDigits(num)        \n"
      ],
      "execution_count": 8,
      "outputs": [
        {
          "output_type": "stream",
          "text": [
            "Enter your number: 89\n",
            "product of digits of number 89 is :\n",
            "72\n"
          ],
          "name": "stdout"
        }
      ]
    },
    {
      "cell_type": "markdown",
      "metadata": {
        "id": "dMr7YLS8kWmL"
      },
      "source": [
        "8. If all digits of a number n are multiplied by each other repeating with the product, the one\n",
        "digit number obtained at last is called the multiplicative digital root of n. The number of\n",
        "times digits need to be multiplied to reach one digit is called the multiplicative\n",
        "persistance of n.\n",
        "Example: 86 -> 48 -> 32 -> 6 (MDR 6, MPersistence 3)\n",
        " 341 -> 12->2 (MDR 2, MPersistence 2)\n",
        "Using the function prodDigits() of previous exercise write functions MDR() and\n",
        "MPersistence() that input a number and return its multiplicative digital root and\n",
        "multiplicative persistence respectively"
      ]
    },
    {
      "cell_type": "code",
      "metadata": {
        "id": "zJwyPBN9BIDm",
        "colab": {
          "base_uri": "https://localhost:8080/"
        },
        "outputId": "a5865fec-2d61-4254-fe55-417567a2fe95"
      },
      "source": [
        "def prodDigits(n):\n",
        "    res =1\n",
        "    while(int(n) > 0 ):\n",
        "      r= int(n)% 10\n",
        "      res = res * int(r)\n",
        "      n = int(n) / 10\n",
        "      if n ==0:\n",
        "         break\n",
        "    return res\n",
        "\n",
        "def count(n):\n",
        "  count=0\n",
        "  n = int\n",
        "  while(n>0):\n",
        "    count =count +1\n",
        "    n= int(n)/10\n",
        "#    print(n)\n",
        "  return count\n",
        "    \n",
        "\n",
        "\n",
        "def MDR(num):\n",
        "  #p= prodDigits(num)\n",
        "  l= len(str(num))\n",
        "  while(l>1):\n",
        "    num = prodDigits(num)\n",
        "    l= len(str(num))\n",
        "    \n",
        "  print(\"multiplicative digital root is\",num)\n",
        "\n",
        "def MPersistence(num):\n",
        "  cont=0\n",
        "  l= len(str(num))  \n",
        "  while(l > 1):\n",
        "    cont = cont +1\n",
        "    num = prodDigits(num)\n",
        "    #print(str(l) +\" \" + str(cont) + \" \" + str(num))\n",
        "    l= len(str(num))\n",
        "    #print(str(l) +\" \" + str(cont) + \" \" + str(num))\n",
        "\n",
        "    #print(cont)\n",
        "    #break\n",
        "  print(\"persistence of number is\",cont)\n",
        "\n",
        "numbr = input(\"Enter your number: \")\n",
        "MDR(numbr)\n",
        "MPersistence(numbr)\n",
        "\n",
        "\n"
      ],
      "execution_count": 9,
      "outputs": [
        {
          "output_type": "stream",
          "text": [
            "Enter your number: 4\n",
            "multiplicative digital root is 4\n",
            "persistence of number is 0\n"
          ],
          "name": "stdout"
        }
      ]
    },
    {
      "cell_type": "markdown",
      "metadata": {
        "id": "Swv5NV2zVIAF"
      },
      "source": [
        "9. Write a function sumPdivisors() that finds the sum of proper divisors of a number. Proper\n",
        "divisors of a number are those numbers by which the number is divisible, except the\n",
        "number itself. For example proper divisors of 36 are 1, 2, 3, 4, 6, 9, 18"
      ]
    },
    {
      "cell_type": "code",
      "metadata": {
        "id": "FBA9DrOTVJvz",
        "colab": {
          "base_uri": "https://localhost:8080/"
        },
        "outputId": "259f0e96-3fcb-46dd-98c9-c77cd81bf1a6"
      },
      "source": [
        "def sumPdivisors(n):\n",
        "  sum = 0\n",
        "  for i in range(1,int(n)):\n",
        "    if int(n)% int(i) == 0:\n",
        "      sum = sum + int(i)\n",
        "      print(i)\n",
        "  print(sum)\n",
        "\n",
        "\n",
        "num= input(\"Enter a number :\")\n",
        "sumPdivisors(num)"
      ],
      "execution_count": 12,
      "outputs": [
        {
          "output_type": "stream",
          "text": [
            "Enter a number :7\n",
            "1\n",
            "1\n"
          ],
          "name": "stdout"
        }
      ]
    },
    {
      "cell_type": "markdown",
      "metadata": {
        "id": "LJlADMi6VIZF"
      },
      "source": [
        "10. A number is called perfect if the sum of proper divisors of that number is equal to the\n",
        "number. For example 28 is perfect number, since 1+2+4+7+14=28. Write a program to\n",
        "print all the perfect numbers in a given range"
      ]
    },
    {
      "cell_type": "code",
      "metadata": {
        "id": "XG2AB99uVKkG",
        "colab": {
          "base_uri": "https://localhost:8080/"
        },
        "outputId": "79a0132a-b361-450f-8183-e14bc2c8f48b"
      },
      "source": [
        "def sumPdivisors(n):\n",
        "  sum = 0\n",
        "  for i in range(1,int(n)):\n",
        "    if int(n)% int(i) == 0:\n",
        "      sum = sum + int(i)\n",
        "#      print(i)\n",
        "  return sum\n",
        "\n",
        "def perfect(lst):\n",
        "  list2 =[]\n",
        "  for i in lst:\n",
        "    p = sumPdivisors(i)\n",
        "    if p == i:\n",
        "      list2.append(i)\n",
        "  print(list2)   \n",
        "      \n",
        "\n",
        "num_list= range(1,30)\n",
        "perfect(num_list)\n",
        "\n",
        "\n",
        "\n",
        "\n"
      ],
      "execution_count": 11,
      "outputs": [
        {
          "output_type": "stream",
          "text": [
            "[6, 28]\n"
          ],
          "name": "stdout"
        }
      ]
    },
    {
      "cell_type": "markdown",
      "metadata": {
        "id": "6muedORLVIzB"
      },
      "source": [
        "11. Two different numbers are called amicable numbers if the sum of the proper divisors of\n",
        "each is equal to the other number. For example 220 and 284 are amicable numbers.\n",
        "Sum of proper divisors of 220 = 1+2+4+5+10+11+20+22+44+55+110 = 284\n",
        "Sum of proper divisors of 284 = 1+2+4+71+142 = 220\n",
        "Write a function to print pairs of amicable numbers in a range"
      ]
    },
    {
      "cell_type": "code",
      "metadata": {
        "id": "uCfwJ_AgVMX1",
        "colab": {
          "base_uri": "https://localhost:8080/"
        },
        "outputId": "61f9a045-71e5-4fb3-daef-1465b5233fa3"
      },
      "source": [
        "def sumPdivisors(n):\n",
        "  sum = 0\n",
        "  for i in range(1,int(n)):\n",
        "    if int(n)% int(i) == 0:\n",
        "      sum = sum + int(i)\n",
        "#      print(i)\n",
        "  return sum\n",
        "\n",
        "def perfect(lst):\n",
        "  lst2 =[]\n",
        "  y = {v: sumPdivisors(v) for v in lst}\n",
        "  print(y)\n",
        "  for key, value in y.items():\n",
        "    for x in lst:\n",
        "      if x == value:\n",
        "        lst2.append(value)\n",
        "  #print(lst2)\n",
        "\n",
        "  for key, value in y.items():\n",
        "    for z in lst2:\n",
        "      if y[key]==z and y[z]==key:\n",
        "        print(key,z)\n",
        "\n",
        "          \n",
        "  \n",
        "num_list= range(220,285)\n",
        "perfect(num_list)\n"
      ],
      "execution_count": 13,
      "outputs": [
        {
          "output_type": "stream",
          "text": [
            "{220: 284, 221: 31, 222: 234, 223: 1, 224: 280, 225: 178, 226: 116, 227: 1, 228: 332, 229: 1, 230: 202, 231: 153, 232: 218, 233: 1, 234: 312, 235: 53, 236: 184, 237: 83, 238: 194, 239: 1, 240: 504, 241: 1, 242: 157, 243: 121, 244: 190, 245: 97, 246: 258, 247: 33, 248: 232, 249: 87, 250: 218, 251: 1, 252: 476, 253: 35, 254: 130, 255: 177, 256: 255, 257: 1, 258: 270, 259: 45, 260: 328, 261: 129, 262: 134, 263: 1, 264: 456, 265: 59, 266: 214, 267: 93, 268: 208, 269: 1, 270: 450, 271: 1, 272: 286, 273: 175, 274: 140, 275: 97, 276: 396, 277: 1, 278: 142, 279: 137, 280: 440, 281: 1, 282: 294, 283: 1, 284: 220}\n",
            "220 284\n",
            "284 220\n"
          ],
          "name": "stdout"
        }
      ]
    },
    {
      "cell_type": "markdown",
      "metadata": {
        "id": "86ZnwWxIJWb-"
      },
      "source": [
        "12. Write a program which can filter odd numbers in a list by using filter function\n"
      ]
    },
    {
      "cell_type": "code",
      "metadata": {
        "id": "LTrPxt5eJblU",
        "colab": {
          "base_uri": "https://localhost:8080/"
        },
        "outputId": "db107736-51ba-4511-b700-58973b2e821e"
      },
      "source": [
        "def Filt_odd(num_list):\n",
        "  #y = {lambda x: for x in num_list if x%2 !=0 , num_list}\n",
        "  y = map(lambda v : v , filter(lambda u : u % 2, num_list))\n",
        "  print(\"odd number list is :\", list(y))\n",
        "  \n",
        "\n",
        "lst= range(1,50)\n",
        "Filt_odd(lst)\n",
        "\n",
        "\n"
      ],
      "execution_count": 14,
      "outputs": [
        {
          "output_type": "stream",
          "text": [
            "odd number list is : [1, 3, 5, 7, 9, 11, 13, 15, 17, 19, 21, 23, 25, 27, 29, 31, 33, 35, 37, 39, 41, 43, 45, 47, 49]\n"
          ],
          "name": "stdout"
        }
      ]
    },
    {
      "cell_type": "markdown",
      "metadata": {
        "id": "2HreWr01OOKT"
      },
      "source": [
        "13. Write a program which can map() to make a list whose elements are cube of elements in\n",
        "a given list"
      ]
    },
    {
      "cell_type": "code",
      "metadata": {
        "id": "6VSbjG59OURi",
        "colab": {
          "base_uri": "https://localhost:8080/",
          "height": 52
        },
        "outputId": "ebcabdbb-4cc1-448e-ce1f-27880579a0f1"
      },
      "source": [
        "def cube_num(num_list):\n",
        "\n",
        "#  y = {lambda x: for x in num_list if x%2 !=0 , num_list}\n",
        "#  y = {v: v ** 3 for v in num_list}\n",
        "   y = list(map(lambda v: v ** 3, num_list ))\n",
        "   print(y)\n",
        "   exist_list = [i for i in y if i in num_list]\n",
        "   print(exist_list)\n",
        "  \n",
        "lst= range(1,10)\n",
        "cube_num(lst)"
      ],
      "execution_count": null,
      "outputs": [
        {
          "output_type": "stream",
          "text": [
            "[1, 8, 27, 64, 125, 216, 343, 512, 729]\n",
            "[1, 8]\n"
          ],
          "name": "stdout"
        }
      ]
    },
    {
      "cell_type": "markdown",
      "metadata": {
        "id": "qysKn2mfUKUR"
      },
      "source": [
        "14. Write a program which can map() and filter() to make a list whose elements are cube of\n",
        "even number in a given list"
      ]
    },
    {
      "cell_type": "code",
      "metadata": {
        "id": "2JDFm4DKUO_b",
        "colab": {
          "base_uri": "https://localhost:8080/",
          "height": 52
        },
        "outputId": "49b1f18b-82c3-4678-d4bb-dd46954c24e5"
      },
      "source": [
        "def cube_map_filter(num_list):\n",
        "#  y = {lambda x: for x in num_list if x%2 !=0 , num_list}\n",
        "  y = list(map(lambda v : v ** 3 ,num_list))\n",
        "  print(y)\n",
        "  x = list(map(lambda v : v , filter(lambda u : u%2==0, y)))\n",
        "  print(x)\n",
        "\n",
        "#  exist_list = [i for i in x if i in num_list]\n",
        "#  print(exist_list)\n",
        "\n",
        "  \n",
        "  \n",
        "lst= range(1,9)\n",
        "cube_map_filter(lst)"
      ],
      "execution_count": null,
      "outputs": [
        {
          "output_type": "stream",
          "text": [
            "[1, 8, 27, 64, 125, 216, 343, 512]\n",
            "[8, 64, 216, 512]\n"
          ],
          "name": "stdout"
        }
      ]
    },
    {
      "cell_type": "code",
      "metadata": {
        "id": "mSrUxCWZXhe1"
      },
      "source": [
        "\n",
        "\n",
        "\n"
      ],
      "execution_count": null,
      "outputs": []
    }
  ]
}